{
 "cells": [
  {
   "cell_type": "code",
   "execution_count": 3,
   "id": "32d1884d",
   "metadata": {},
   "outputs": [
    {
     "name": "stderr",
     "output_type": "stream",
     "text": [
      "C:\\Users\\Lin Borong\\.conda\\envs\\pytorch\\lib\\site-packages\\tqdm\\auto.py:22: TqdmWarning: IProgress not found. Please update jupyter and ipywidgets. See https://ipywidgets.readthedocs.io/en/stable/user_install.html\n",
      "  from .autonotebook import tqdm as notebook_tqdm\n"
     ]
    }
   ],
   "source": [
    "import imageio\n",
    "import torch"
   ]
  },
  {
   "cell_type": "code",
   "execution_count": 4,
   "id": "a91f23fd",
   "metadata": {},
   "outputs": [
    {
     "name": "stderr",
     "output_type": "stream",
     "text": [
      "C:\\Temp\\ipykernel_8820\\676725016.py:1: DeprecationWarning: Starting with ImageIO v3 the behavior of this function will switch to that of iio.v3.imread. To keep the current behavior (and make this warning disappear) use `import imageio.v2 as imageio` or call `imageio.v2.imread` directly.\n",
      "  img_arr = imageio.imread(\"./dlwpt-code-master/data/p1ch4/image-dog/bobby.jpg\")\n"
     ]
    },
    {
     "data": {
      "text/plain": [
       "(720, 1280, 3)"
      ]
     },
     "execution_count": 4,
     "metadata": {},
     "output_type": "execute_result"
    }
   ],
   "source": [
    "img_arr = imageio.imread(\"./dlwpt-code-master/data/p1ch4/image-dog/bobby.jpg\")\n",
    "img_arr.shape"
   ]
  },
  {
   "cell_type": "code",
   "execution_count": 5,
   "id": "b526adb8",
   "metadata": {},
   "outputs": [],
   "source": [
    "img = torch.from_numpy(img_arr)\n",
    "out = img.permute(2,0,1)"
   ]
  },
  {
   "cell_type": "code",
   "execution_count": 6,
   "id": "1d3b606d",
   "metadata": {},
   "outputs": [
    {
     "data": {
      "text/plain": [
       "torch.Size([3, 720, 1280])"
      ]
     },
     "execution_count": 6,
     "metadata": {},
     "output_type": "execute_result"
    }
   ],
   "source": [
    "out.shape"
   ]
  },
  {
   "cell_type": "code",
   "execution_count": 7,
   "id": "00a8f8c5",
   "metadata": {},
   "outputs": [],
   "source": [
    "import os"
   ]
  },
  {
   "cell_type": "code",
   "execution_count": 9,
   "id": "363d258e",
   "metadata": {},
   "outputs": [],
   "source": [
    "batchsize = 3\n",
    "batch = torch.zeros(batchsize,3,256,256,dtype = torch.uint8)\n",
    "file_dir = \"./dlwpt-code-master/data/p1ch4/image-cats\"\n",
    "files = [file for file in os.listdir(file_dir) if os.path.splitext(file)[-1] == \"png\"]\n",
    "for i, file in enumerate(files):\n",
    "    img_arr = imageio.imread(os.path.join(file_dir,file))\n",
    "    img = torch.from_numpy(img_arr)\n",
    "    img.permute(2,0,1)\n",
    "    img = img[:3]\n",
    "    batch[i] = img"
   ]
  },
  {
   "cell_type": "code",
   "execution_count": 41,
   "id": "f68762c9",
   "metadata": {},
   "outputs": [],
   "source": [
    "batch = batch.float()\n",
    "n_channels = batch.shape[1]\n",
    "for i in range(n_channels):\n",
    "    mean = torch.mean(batch[:,i])\n",
    "    std = torch.std(batch[:,i])\n",
    "    batch[:,i] = (batch[:,i]-mean)/std"
   ]
  },
  {
   "cell_type": "code",
   "execution_count": 50,
   "id": "50f52c07",
   "metadata": {},
   "outputs": [
    {
     "name": "stdout",
     "output_type": "stream",
     "text": [
      "Reading DICOM (examining files): 1/99 files (1.0%99/99 files (100.0%)\n",
      "  Found 1 correct series.\n",
      "Reading DICOM (loading data): 99/99  (100.0%)\n"
     ]
    }
   ],
   "source": [
    "dir_path = \"./dlwpt-code-master/data/p1ch4/volumetric-dicom/2-LUNG 3.0  B70f-04083\"\n",
    "file = imageio.volread(dir_path,'DICOM')\n",
    "vol = torch.from_numpy(file).float()"
   ]
  },
  {
   "cell_type": "code",
   "execution_count": 55,
   "id": "a80e45a7",
   "metadata": {},
   "outputs": [
    {
     "data": {
      "text/plain": [
       "torch.Size([1, 99, 512, 512])"
      ]
     },
     "execution_count": 55,
     "metadata": {},
     "output_type": "execute_result"
    }
   ],
   "source": [
    "vol = torch.unsqueeze(vol,0)\n",
    "vol.shape"
   ]
  },
  {
   "cell_type": "code",
   "execution_count": null,
   "id": "40103273",
   "metadata": {},
   "outputs": [],
   "source": []
  }
 ],
 "metadata": {
  "kernelspec": {
   "display_name": "Python [conda env:.conda-pytorch] *",
   "language": "python",
   "name": "conda-env-.conda-pytorch-py"
  },
  "language_info": {
   "codemirror_mode": {
    "name": "ipython",
    "version": 3
   },
   "file_extension": ".py",
   "mimetype": "text/x-python",
   "name": "python",
   "nbconvert_exporter": "python",
   "pygments_lexer": "ipython3",
   "version": "3.9.13"
  },
  "toc": {
   "base_numbering": 1,
   "nav_menu": {},
   "number_sections": true,
   "sideBar": true,
   "skip_h1_title": false,
   "title_cell": "Table of Contents",
   "title_sidebar": "Contents",
   "toc_cell": false,
   "toc_position": {},
   "toc_section_display": true,
   "toc_window_display": false
  }
 },
 "nbformat": 4,
 "nbformat_minor": 5
}
