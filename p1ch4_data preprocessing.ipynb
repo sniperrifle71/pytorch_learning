{
 "cells": [
  {
   "cell_type": "markdown",
   "id": "5da17f7e",
   "metadata": {},
   "source": [
    "# image data"
   ]
  },
  {
   "cell_type": "code",
   "execution_count": 1,
   "id": "32d1884d",
   "metadata": {},
   "outputs": [
    {
     "name": "stderr",
     "output_type": "stream",
     "text": [
      "C:\\Users\\Lin Borong\\.conda\\envs\\pytorch\\lib\\site-packages\\tqdm\\auto.py:22: TqdmWarning: IProgress not found. Please update jupyter and ipywidgets. See https://ipywidgets.readthedocs.io/en/stable/user_install.html\n",
      "  from .autonotebook import tqdm as notebook_tqdm\n"
     ]
    }
   ],
   "source": [
    "import imageio\n",
    "import torch"
   ]
  },
  {
   "cell_type": "code",
   "execution_count": 2,
   "id": "a91f23fd",
   "metadata": {},
   "outputs": [
    {
     "name": "stderr",
     "output_type": "stream",
     "text": [
      "C:\\Temp\\ipykernel_20012\\676725016.py:1: DeprecationWarning: Starting with ImageIO v3 the behavior of this function will switch to that of iio.v3.imread. To keep the current behavior (and make this warning disappear) use `import imageio.v2 as imageio` or call `imageio.v2.imread` directly.\n",
      "  img_arr = imageio.imread(\"./dlwpt-code-master/data/p1ch4/image-dog/bobby.jpg\")\n"
     ]
    },
    {
     "data": {
      "text/plain": [
       "(720, 1280, 3)"
      ]
     },
     "execution_count": 2,
     "metadata": {},
     "output_type": "execute_result"
    }
   ],
   "source": [
    "img_arr = imageio.imread(\"./dlwpt-code-master/data/p1ch4/image-dog/bobby.jpg\")\n",
    "img_arr.shape"
   ]
  },
  {
   "cell_type": "code",
   "execution_count": 3,
   "id": "b526adb8",
   "metadata": {},
   "outputs": [],
   "source": [
    "img = torch.from_numpy(img_arr)\n",
    "out = img.permute(2,0,1)"
   ]
  },
  {
   "cell_type": "code",
   "execution_count": 4,
   "id": "1d3b606d",
   "metadata": {},
   "outputs": [
    {
     "data": {
      "text/plain": [
       "torch.Size([3, 720, 1280])"
      ]
     },
     "execution_count": 4,
     "metadata": {},
     "output_type": "execute_result"
    }
   ],
   "source": [
    "out.shape"
   ]
  },
  {
   "cell_type": "code",
   "execution_count": 5,
   "id": "00a8f8c5",
   "metadata": {},
   "outputs": [],
   "source": [
    "import os"
   ]
  },
  {
   "cell_type": "code",
   "execution_count": 6,
   "id": "363d258e",
   "metadata": {},
   "outputs": [],
   "source": [
    "batchsize = 3\n",
    "batch = torch.zeros(batchsize,3,256,256,dtype = torch.uint8)\n",
    "file_dir = \"./dlwpt-code-master/data/p1ch4/image-cats\"\n",
    "files = [file for file in os.listdir(file_dir) if os.path.splitext(file)[-1] == \"png\"]\n",
    "for i, file in enumerate(files):\n",
    "    img_arr = imageio.imread(os.path.join(file_dir,file))\n",
    "    img = torch.from_numpy(img_arr)\n",
    "    img.permute(2,0,1)\n",
    "    img = img[:3]\n",
    "    batch[i] = img"
   ]
  },
  {
   "cell_type": "code",
   "execution_count": 7,
   "id": "f68762c9",
   "metadata": {},
   "outputs": [],
   "source": [
    "batch = batch.float()\n",
    "n_channels = batch.shape[1]\n",
    "for i in range(n_channels):\n",
    "    mean = torch.mean(batch[:,i])\n",
    "    std = torch.std(batch[:,i])\n",
    "    batch[:,i] = (batch[:,i]-mean)/std"
   ]
  },
  {
   "cell_type": "code",
   "execution_count": 8,
   "id": "50f52c07",
   "metadata": {},
   "outputs": [
    {
     "name": "stdout",
     "output_type": "stream",
     "text": [
      "Reading DICOM (examining files): 1/99 files (1.0%23/99 files (23.2%49/99 files (49.5%74/99 files (74.7%99/99 files (100.0%)\n",
      "  Found 1 correct series.\n",
      "Reading DICOM (loading data): 95/99  (96.099/99  (100.0%)\n"
     ]
    }
   ],
   "source": [
    "dir_path = \"./dlwpt-code-master/data/p1ch4/volumetric-dicom/2-LUNG 3.0  B70f-04083\"\n",
    "file = imageio.volread(dir_path,'DICOM')\n",
    "vol = torch.from_numpy(file).float()"
   ]
  },
  {
   "cell_type": "code",
   "execution_count": 9,
   "id": "a80e45a7",
   "metadata": {},
   "outputs": [
    {
     "data": {
      "text/plain": [
       "torch.Size([1, 99, 512, 512])"
      ]
     },
     "execution_count": 9,
     "metadata": {},
     "output_type": "execute_result"
    }
   ],
   "source": [
    "vol = torch.unsqueeze(vol,0)\n",
    "vol.shape"
   ]
  },
  {
   "cell_type": "markdown",
   "id": "0588c3ab",
   "metadata": {},
   "source": [
    "# tabular data"
   ]
  },
  {
   "cell_type": "code",
   "execution_count": 10,
   "id": "40103273",
   "metadata": {},
   "outputs": [],
   "source": [
    "import pandas as pd\n",
    "import numpy as np"
   ]
  },
  {
   "cell_type": "code",
   "execution_count": 11,
   "id": "3f1cb1ab",
   "metadata": {},
   "outputs": [
    {
     "name": "stdout",
     "output_type": "stream",
     "text": [
      "Index(['fixed acidity', 'volatile acidity', 'citric acid', 'residual sugar',\n",
      "       'chlorides', 'free sulfur dioxide', 'total sulfur dioxide', 'density',\n",
      "       'pH', 'sulphates', 'alcohol', 'quality'],\n",
      "      dtype='object')\n"
     ]
    }
   ],
   "source": [
    "df = pd.read_csv(\"./dlwpt-code-master/data/p1ch4/tabular-wine/winequality-white.csv\",delimiter=\";\",dtype=float)\n",
    "colist = df.columns\n",
    "print(colist)\n",
    "wineq_numpy = df.to_numpy()"
   ]
  },
  {
   "cell_type": "code",
   "execution_count": 12,
   "id": "c0be95be",
   "metadata": {},
   "outputs": [
    {
     "data": {
      "text/plain": [
       "(4898, 12)"
      ]
     },
     "execution_count": 12,
     "metadata": {},
     "output_type": "execute_result"
    }
   ],
   "source": [
    "wineq_numpy=wineq_numpy.astype(np.float32)\n",
    "wineq_numpy.shape"
   ]
  },
  {
   "cell_type": "code",
   "execution_count": 13,
   "id": "bb2f8182",
   "metadata": {},
   "outputs": [],
   "source": [
    "wineq = torch.from_numpy(wineq_numpy)"
   ]
  },
  {
   "cell_type": "code",
   "execution_count": 14,
   "id": "43ea4b62",
   "metadata": {},
   "outputs": [],
   "source": [
    "data = wineq[:,:-1]\n",
    "target = wineq[:,-1].long()"
   ]
  },
  {
   "cell_type": "code",
   "execution_count": 15,
   "id": "69403c38",
   "metadata": {},
   "outputs": [
    {
     "data": {
      "text/plain": [
       "torch.Size([4898])"
      ]
     },
     "execution_count": 15,
     "metadata": {},
     "output_type": "execute_result"
    }
   ],
   "source": [
    "target.shape"
   ]
  },
  {
   "cell_type": "code",
   "execution_count": 16,
   "id": "dd0f5daf",
   "metadata": {},
   "outputs": [
    {
     "data": {
      "text/plain": [
       "tensor([[0., 0., 0.,  ..., 0., 0., 0.],\n",
       "        [0., 0., 0.,  ..., 0., 0., 0.],\n",
       "        [0., 0., 0.,  ..., 0., 0., 0.],\n",
       "        ...,\n",
       "        [0., 0., 0.,  ..., 0., 0., 0.],\n",
       "        [0., 0., 0.,  ..., 1., 0., 0.],\n",
       "        [0., 0., 0.,  ..., 0., 0., 0.]])"
      ]
     },
     "execution_count": 16,
     "metadata": {},
     "output_type": "execute_result"
    }
   ],
   "source": [
    "target_onehot = torch.zeros(target.shape[0],10)\n",
    "target_onehot.scatter_(1,target.unsqueeze(1),1.0)\n",
    "target_onehot"
   ]
  },
  {
   "cell_type": "code",
   "execution_count": 17,
   "id": "31012a05",
   "metadata": {},
   "outputs": [],
   "source": [
    "data_mean = torch.mean(data,dim = 0)\n",
    "data_var = torch.var(data,dim = 0)"
   ]
  },
  {
   "cell_type": "code",
   "execution_count": 18,
   "id": "cee64260",
   "metadata": {},
   "outputs": [],
   "source": [
    "data_normalized = (data-data_mean)/torch.sqrt(data_var)"
   ]
  },
  {
   "cell_type": "code",
   "execution_count": 19,
   "id": "e229d39d",
   "metadata": {},
   "outputs": [
    {
     "data": {
      "text/plain": [
       "torch.Size([20, 11])"
      ]
     },
     "execution_count": 19,
     "metadata": {},
     "output_type": "execute_result"
    }
   ],
   "source": [
    "bad_indexs = target<=3\n",
    "bad_data = data[bad_indexs]\n",
    "bad_data.shape"
   ]
  },
  {
   "cell_type": "code",
   "execution_count": 20,
   "id": "1aabc52f",
   "metadata": {},
   "outputs": [
    {
     "name": "stdout",
     "output_type": "stream",
     "text": [
      " 0 fixed acidity          7.60   6.86   6.68\n",
      " 1 volatile acidity       0.33   0.28   0.28\n",
      " 2 citric acid            0.34   0.33   0.33\n",
      " 3 residual sugar         6.39   6.42   5.63\n",
      " 4 chlorides              0.05   0.05   0.04\n",
      " 5 free sulfur dioxide   53.33  35.18  36.63\n",
      " 6 total sulfur dioxide 170.60 138.70 125.88\n",
      " 7 density                0.99   0.99   0.99\n",
      " 8 pH                     3.19   3.19   3.22\n",
      " 9 sulphates              0.47   0.49   0.49\n",
      "10 alcohol               10.34  10.47  11.65\n"
     ]
    }
   ],
   "source": [
    "bad_data = data[target<=3]\n",
    "mid_data = data[(target>3) & (target<=7)]\n",
    "good_data = data[target>7]\n",
    "bad_mean = torch.mean(bad_data,dim = 0)\n",
    "mid_mean = torch.mean(mid_data,dim = 0)\n",
    "good_mean = torch.mean(good_data,dim =0)\n",
    "for i, args in enumerate(zip(colist,bad_mean,mid_mean,good_mean)):\n",
    "    print('{:2} {:20} {:6.2f} {:6.2f} {:6.2f}'.format(i,*args))\n"
   ]
  },
  {
   "cell_type": "code",
   "execution_count": 21,
   "id": "de4a7e1f",
   "metadata": {},
   "outputs": [
    {
     "data": {
      "text/plain": [
       "(torch.Size([4898]), torch.bool, tensor(2618))"
      ]
     },
     "execution_count": 21,
     "metadata": {},
     "output_type": "execute_result"
    }
   ],
   "source": [
    "total_sulfur_threshold = 138.70\n",
    "total_sulfur_data = data[:,6]\n",
    "predicted_indexes = torch.lt(total_sulfur_data,total_sulfur_threshold)\n",
    "predicted_indexes.shape,predicted_indexes.dtype,predicted_indexes.sum()"
   ]
  },
  {
   "cell_type": "code",
   "execution_count": 22,
   "id": "5017178a",
   "metadata": {},
   "outputs": [
    {
     "data": {
      "text/plain": [
       "(torch.Size([4898]), torch.bool, tensor(3258))"
      ]
     },
     "execution_count": 22,
     "metadata": {},
     "output_type": "execute_result"
    }
   ],
   "source": [
    "actual_indexes = target>5\n",
    "actual_indexes.shape,actual_indexes.dtype,actual_indexes.sum()"
   ]
  },
  {
   "cell_type": "code",
   "execution_count": 23,
   "id": "058563af",
   "metadata": {},
   "outputs": [
    {
     "data": {
      "text/plain": [
       "(1935, 0.7391138273491215, 0.5939226519337016)"
      ]
     },
     "execution_count": 23,
     "metadata": {},
     "output_type": "execute_result"
    }
   ],
   "source": [
    "n_matches = torch.sum(actual_indexes&predicted_indexes).item()\n",
    "n_predicted = predicted_indexes.sum().item()\n",
    "n_actual = actual_indexes.sum().item()\n",
    "n_matches, n_matches/n_predicted, n_matches/n_actual"
   ]
  },
  {
   "cell_type": "markdown",
   "id": "f659a048",
   "metadata": {},
   "source": [
    "# time series "
   ]
  },
  {
   "cell_type": "code",
   "execution_count": 24,
   "id": "1933fb5a",
   "metadata": {},
   "outputs": [
    {
     "data": {
      "text/plain": [
       "(torch.Size([17520, 17]), (1, 17520))"
      ]
     },
     "execution_count": 24,
     "metadata": {},
     "output_type": "execute_result"
    }
   ],
   "source": [
    "df = pd.read_csv(\"./dlwpt-code-master/data/p1ch4/bike-sharing-dataset/hour-fixed.csv\",converters={1:lambda x: float(x[8:10])})\n",
    "df.to_numpy()\n",
    "bikes = torch.from_numpy(df.to_numpy().astype(np.float32))\n",
    "bikes.shape,bikes.stride()"
   ]
  },
  {
   "cell_type": "code",
   "execution_count": 25,
   "id": "7186ed62",
   "metadata": {},
   "outputs": [
    {
     "data": {
      "text/plain": [
       "(torch.Size([730, 24, 17]), (24, 1, 17520))"
      ]
     },
     "execution_count": 25,
     "metadata": {},
     "output_type": "execute_result"
    }
   ],
   "source": [
    "daily_bikes = bikes.view(-1,24,bikes.shape[1])\n",
    "daily_bikes.shape, daily_bikes.stride()"
   ]
  },
  {
   "cell_type": "code",
   "execution_count": 26,
   "id": "d9393c72",
   "metadata": {},
   "outputs": [
    {
     "data": {
      "text/plain": [
       "(torch.Size([730, 17, 24]), (24, 17520, 1))"
      ]
     },
     "execution_count": 26,
     "metadata": {},
     "output_type": "execute_result"
    }
   ],
   "source": [
    "daily_bikes = daily_bikes.transpose(1,2)\n",
    "daily_bikes.shape,daily_bikes.stride()"
   ]
  },
  {
   "cell_type": "code",
   "execution_count": 27,
   "id": "8e884718",
   "metadata": {},
   "outputs": [],
   "source": [
    "first_day = bikes[:24].long()\n",
    "weather_onehot = torch.zeros(first_day.shape[0],4)"
   ]
  },
  {
   "cell_type": "code",
   "execution_count": 28,
   "id": "a512d1cf",
   "metadata": {},
   "outputs": [
    {
     "data": {
      "text/plain": [
       "tensor([[1., 0., 0., 0.],\n",
       "        [1., 0., 0., 0.],\n",
       "        [1., 0., 0., 0.],\n",
       "        [1., 0., 0., 0.],\n",
       "        [1., 0., 0., 0.],\n",
       "        [0., 1., 0., 0.],\n",
       "        [1., 0., 0., 0.],\n",
       "        [1., 0., 0., 0.],\n",
       "        [1., 0., 0., 0.],\n",
       "        [1., 0., 0., 0.],\n",
       "        [1., 0., 0., 0.],\n",
       "        [1., 0., 0., 0.],\n",
       "        [1., 0., 0., 0.],\n",
       "        [0., 1., 0., 0.],\n",
       "        [0., 1., 0., 0.],\n",
       "        [0., 1., 0., 0.],\n",
       "        [0., 1., 0., 0.],\n",
       "        [0., 1., 0., 0.],\n",
       "        [0., 0., 1., 0.],\n",
       "        [0., 0., 1., 0.],\n",
       "        [0., 1., 0., 0.],\n",
       "        [0., 1., 0., 0.],\n",
       "        [0., 1., 0., 0.],\n",
       "        [0., 1., 0., 0.]])"
      ]
     },
     "execution_count": 28,
     "metadata": {},
     "output_type": "execute_result"
    }
   ],
   "source": [
    "first_day[:,9]\n",
    "weather_onehot.scatter_(1,first_day[:,9].unsqueeze(1).long()-1,1.0)"
   ]
  },
  {
   "cell_type": "code",
   "execution_count": 29,
   "id": "a9fc71b4",
   "metadata": {},
   "outputs": [
    {
     "data": {
      "text/plain": [
       "tensor([[ 1.0000,  1.0000,  1.0000,  0.0000,  1.0000,  0.0000,  0.0000,  6.0000,\n",
       "          0.0000,  1.0000,  0.2400,  0.2879,  0.8100,  0.0000,  3.0000, 13.0000,\n",
       "         16.0000,  1.0000,  0.0000,  0.0000,  0.0000]])"
      ]
     },
     "execution_count": 29,
     "metadata": {},
     "output_type": "execute_result"
    }
   ],
   "source": [
    "torch.cat((bikes[:24],weather_onehot),1)[:1]"
   ]
  },
  {
   "cell_type": "code",
   "execution_count": 30,
   "id": "e01f6c51",
   "metadata": {},
   "outputs": [],
   "source": [
    "daily_weather_onehot = torch.zeros(daily_bikes.shape[0],4,daily_bikes.shape[2])"
   ]
  },
  {
   "cell_type": "code",
   "execution_count": 31,
   "id": "9422a306",
   "metadata": {},
   "outputs": [
    {
     "data": {
      "text/plain": [
       "torch.Size([730, 4, 24])"
      ]
     },
     "execution_count": 31,
     "metadata": {},
     "output_type": "execute_result"
    }
   ],
   "source": [
    "daily_weather_onehot.scatter_(1,daily_bikes[:,9,:].unsqueeze(1).long()-1,1.0)\n",
    "daily_weather_onehot.shape"
   ]
  },
  {
   "cell_type": "code",
   "execution_count": 32,
   "id": "459c216c",
   "metadata": {},
   "outputs": [],
   "source": [
    "daily_bikes = torch.cat((daily_bikes,daily_weather_onehot),1)"
   ]
  },
  {
   "cell_type": "code",
   "execution_count": 33,
   "id": "0a527609",
   "metadata": {},
   "outputs": [],
   "source": [
    "temp = daily_bikes[:,10,:]\n",
    "daily_bikes[:,10,:] = (daily_bikes[:,10,:]-torch.mean(daily_bikes[:,10,:]))/torch.std(daily_bikes[:,10,:])"
   ]
  },
  {
   "cell_type": "markdown",
   "id": "05c5b691",
   "metadata": {},
   "source": [
    "# text data"
   ]
  },
  {
   "cell_type": "code",
   "execution_count": 34,
   "id": "10ef1d97",
   "metadata": {},
   "outputs": [],
   "source": [
    "with open(\"./dlwpt-code-master/data/p1ch4/jane-austen/1342-0.txt\",encoding=\"utf8\") as f:\n",
    "    text = f.read()"
   ]
  },
  {
   "cell_type": "code",
   "execution_count": 35,
   "id": "0ce9fad5",
   "metadata": {},
   "outputs": [
    {
     "data": {
      "text/plain": [
       "'“Impossible, Mr. Bennet, impossible, when I am not acquainted with him'"
      ]
     },
     "execution_count": 35,
     "metadata": {},
     "output_type": "execute_result"
    }
   ],
   "source": [
    "lines = text.split(\"\\n\")\n",
    "line = lines[200]\n",
    "line"
   ]
  },
  {
   "cell_type": "code",
   "execution_count": 36,
   "id": "2b06c987",
   "metadata": {},
   "outputs": [
    {
     "data": {
      "text/plain": [
       "torch.Size([70, 128])"
      ]
     },
     "execution_count": 36,
     "metadata": {},
     "output_type": "execute_result"
    }
   ],
   "source": [
    "letter_t = torch.zeros(len(line),128)\n",
    "letter_t.shape"
   ]
  },
  {
   "cell_type": "code",
   "execution_count": 37,
   "id": "ae00a91b",
   "metadata": {},
   "outputs": [],
   "source": [
    "for i, letter in enumerate(line.lower().strip()):\n",
    "    letter_index = ord(letter) if ord(letter)<128 else 0\n",
    "    letter_t[i][letter_index] = 1"
   ]
  },
  {
   "cell_type": "code",
   "execution_count": 38,
   "id": "aaec7969",
   "metadata": {},
   "outputs": [],
   "source": [
    "def clean_words(input_str):\n",
    "    punctuation =  \".,;:!?\\\"_-“”\"\n",
    "    word_list = input_str.lower().replace('\\n',' ').split()\n",
    "    word_list = [word.strip(punctuation) for word in word_list]\n",
    "    return word_list"
   ]
  },
  {
   "cell_type": "code",
   "execution_count": 39,
   "id": "54de0a7d",
   "metadata": {},
   "outputs": [
    {
     "data": {
      "text/plain": [
       "('“Impossible, Mr. Bennet, impossible, when I am not acquainted with him',\n",
       " ['impossible',\n",
       "  'mr',\n",
       "  'bennet',\n",
       "  'impossible',\n",
       "  'when',\n",
       "  'i',\n",
       "  'am',\n",
       "  'not',\n",
       "  'acquainted',\n",
       "  'with',\n",
       "  'him'])"
      ]
     },
     "execution_count": 39,
     "metadata": {},
     "output_type": "execute_result"
    }
   ],
   "source": [
    "words_in_line = clean_words(line)\n",
    "line,words_in_line"
   ]
  },
  {
   "cell_type": "code",
   "execution_count": 40,
   "id": "d748a986",
   "metadata": {},
   "outputs": [
    {
     "data": {
      "text/plain": [
       "(7261, 3394)"
      ]
     },
     "execution_count": 40,
     "metadata": {},
     "output_type": "execute_result"
    }
   ],
   "source": [
    "word_list = sorted(set(clean_words(text)))\n",
    "word2index_dict = {word:i for (i,word) in enumerate(word_list)}\n",
    "len(word2index_dict), word2index_dict['impossible']"
   ]
  },
  {
   "cell_type": "code",
   "execution_count": 41,
   "id": "44a191bf",
   "metadata": {},
   "outputs": [
    {
     "name": "stdout",
     "output_type": "stream",
     "text": [
      " 0 3394 impossible\n",
      " 1 4305 mr\n",
      " 2  813 bennet\n",
      " 3 3394 impossible\n",
      " 4 7078 when\n",
      " 5 3315 i\n",
      " 6  415 am\n",
      " 7 4436 not\n",
      " 8  239 acquainted\n",
      " 9 7148 with\n",
      "10 3215 him\n",
      "torch.Size([11, 7261])\n"
     ]
    }
   ],
   "source": [
    "word_t = torch.zeros(len(words_in_line),len(word2index_dict))\n",
    "for i,word in enumerate(words_in_line):\n",
    "    word_index = word2index_dict[word]\n",
    "    word_t[i][word_index] = 1\n",
    "    print('{:2} {:4} {}'.format(i,word_index,word))\n",
    "print(word_t.shape)"
   ]
  },
  {
   "cell_type": "code",
   "execution_count": null,
   "id": "76a1b060",
   "metadata": {},
   "outputs": [],
   "source": []
  }
 ],
 "metadata": {
  "kernelspec": {
   "display_name": "Python [conda env:.conda-pytorch] *",
   "language": "python",
   "name": "conda-env-.conda-pytorch-py"
  },
  "language_info": {
   "codemirror_mode": {
    "name": "ipython",
    "version": 3
   },
   "file_extension": ".py",
   "mimetype": "text/x-python",
   "name": "python",
   "nbconvert_exporter": "python",
   "pygments_lexer": "ipython3",
   "version": "3.9.13"
  },
  "toc": {
   "base_numbering": 1,
   "nav_menu": {},
   "number_sections": true,
   "sideBar": true,
   "skip_h1_title": false,
   "title_cell": "Table of Contents",
   "title_sidebar": "Contents",
   "toc_cell": false,
   "toc_position": {},
   "toc_section_display": true,
   "toc_window_display": false
  }
 },
 "nbformat": 4,
 "nbformat_minor": 5
}
