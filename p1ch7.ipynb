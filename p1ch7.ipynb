{
 "cells": [
  {
   "cell_type": "code",
   "execution_count": 4,
   "id": "490ddcf2",
   "metadata": {},
   "outputs": [],
   "source": [
    "from torchvision import datasets\n",
    "import torch"
   ]
  },
  {
   "cell_type": "code",
   "execution_count": 5,
   "id": "976be505",
   "metadata": {},
   "outputs": [
    {
     "name": "stdout",
     "output_type": "stream",
     "text": [
      "Files already downloaded and verified\n",
      "Files already downloaded and verified\n"
     ]
    }
   ],
   "source": [
    "data_path = './p1ch7/'\n",
    "cifar10 = datasets.CIFAR10(data_path,train=True,download=True)\n",
    "cifar10_val = datasets.CIFAR10(data_path,train=False, download=True)"
   ]
  },
  {
   "cell_type": "code",
   "execution_count": 6,
   "id": "416eedab",
   "metadata": {},
   "outputs": [
    {
     "data": {
      "text/plain": [
       "(<PIL.Image.Image image mode=RGB size=32x32>, 2)"
      ]
     },
     "execution_count": 6,
     "metadata": {},
     "output_type": "execute_result"
    }
   ],
   "source": [
    "img,label = cifar10[123]\n",
    "img,label"
   ]
  },
  {
   "cell_type": "code",
   "execution_count": 7,
   "id": "a47976b5",
   "metadata": {},
   "outputs": [
    {
     "data": {
      "text/plain": [
       "PIL.Image.Image"
      ]
     },
     "execution_count": 7,
     "metadata": {},
     "output_type": "execute_result"
    },
    {
     "data": {
      "image/png": "[encoded data removed]",
      "text/plain": [
       "<Figure size 432x288 with 1 Axes>"
      ]
     },
     "metadata": {
      "needs_background": "light"
     },
     "output_type": "display_data"
    }
   ],
   "source": [
    "import matplotlib.pyplot as plt\n",
    "plt.imshow(img)\n",
    "type(img)"
   ]
  },
  {
   "cell_type": "code",
   "execution_count": 8,
   "id": "3005015d",
   "metadata": {},
   "outputs": [],
   "source": [
    "from torchvision import transforms"
   ]
  },
  {
   "cell_type": "code",
   "execution_count": 40,
   "id": "b16b5b3d",
   "metadata": {},
   "outputs": [],
   "source": [
    "tensor_cifar10 = datasets.CIFAR10(data_path,train=True, download=False, transform = transforms.ToTensor())\n",
    "tensor_val_cifar10 = datasets.CIFAR10(data_path,train=False,download=False,transform = transforms.ToTensor())"
   ]
  },
  {
   "cell_type": "code",
   "execution_count": 48,
   "id": "c3136fd5",
   "metadata": {},
   "outputs": [],
   "source": [
    "imgs = torch.stack([img_t for img_t,_ in tensor_cifar10],dim = 3)\n",
    "val_imgs = torch.stack([img_t for img_t,_ in tensor_val_cifar10],dim = 3)"
   ]
  },
  {
   "cell_type": "code",
   "execution_count": 51,
   "id": "9ed7339a",
   "metadata": {},
   "outputs": [],
   "source": [
    "avg = imgs.view(3,-1).mean(1)\n",
    "std = imgs.view(3,-1).std(1)\n",
    "val_avg = val_imgs.view(3,-1).mean(1)\n",
    "val_std = val_imgs.view(3,-1).std(1)"
   ]
  },
  {
   "cell_type": "code",
   "execution_count": 52,
   "id": "954b202f",
   "metadata": {},
   "outputs": [],
   "source": [
    "transformed_cifar10 = datasets.CIFAR10(data_path,train=True,download=False,transform = transforms.Compose([\n",
    "    transforms.ToTensor(),\n",
    "    transforms.Normalize(mean = avg, std = std)\n",
    "]))\n",
    "\n",
    "tensor_val_cifar10 = datasets.CIFAR10(data_path,train=False,download=False,transform = transforms.Compose([\n",
    "    transforms.ToTensor(),\n",
    "    transforms.Normalize(mean=val_avg,std=val_std)\n",
    "]))"
   ]
  },
  {
   "cell_type": "code",
   "execution_count": 17,
   "id": "3535c68c",
   "metadata": {},
   "outputs": [
    {
     "name": "stderr",
     "output_type": "stream",
     "text": [
      "Clipping input data to the valid range for imshow with RGB data ([0..1] for floats or [0..255] for integers).\n"
     ]
    },
    {
     "data": {
      "text/plain": [
       "<matplotlib.image.AxesImage at 0x29fb4892bb0>"
      ]
     },
     "execution_count": 17,
     "metadata": {},
     "output_type": "execute_result"
    },
    {
     "data": {
      "image/png": "[encoded data removed]",
      "text/plain": [
       "<Figure size 432x288 with 1 Axes>"
      ]
     },
     "metadata": {
      "needs_background": "light"
     },
     "output_type": "display_data"
    }
   ],
   "source": [
    "img_t,_ = transformed_cifar10[99]\n",
    "plt.imshow(img_t.permute(1,2,0))\n"
   ]
  },
  {
   "cell_type": "code",
   "execution_count": 53,
   "id": "fdaa1fa8",
   "metadata": {},
   "outputs": [],
   "source": [
    "label_map = {0:0,2:1}\n",
    "class_names = [\"airplane\",\"bird\"]\n",
    "cifar2 = [(img,label_map[label]) for img,label in transformed_cifar10 if label in [0,2]]\n",
    "cifar2_val = [(img,label_map[label]) for img,label in tensor_val_cifar10 if label in [0,2]]"
   ]
  },
  {
   "cell_type": "code",
   "execution_count": 19,
   "id": "b544e023",
   "metadata": {},
   "outputs": [],
   "source": [
    "import torch.nn as nn"
   ]
  },
  {
   "cell_type": "code",
   "execution_count": 27,
   "id": "47612626",
   "metadata": {},
   "outputs": [],
   "source": [
    "n_out =2\n",
    "model = nn.Sequential(\n",
    "    nn.Linear(3072,512),\n",
    "    nn.Tanh(),\n",
    "    nn.Linear(512,n_out),\n",
    "    nn.LogSoftmax(dim=1)\n",
    ")"
   ]
  },
  {
   "cell_type": "code",
   "execution_count": 29,
   "id": "4d739d8f",
   "metadata": {},
   "outputs": [],
   "source": [
    "img,_ = cifar2[0]\n",
    "img_batch = img.view(-1).unsqueeze(0)\n",
    "out = model(img_batch)\n",
    "loss = nn.NLLLoss()"
   ]
  },
  {
   "cell_type": "code",
   "execution_count": 30,
   "id": "02076c72",
   "metadata": {},
   "outputs": [
    {
     "data": {
      "text/plain": [
       "tensor([1])"
      ]
     },
     "execution_count": 30,
     "metadata": {},
     "output_type": "execute_result"
    }
   ],
   "source": [
    "_,index = torch.max(out,dim = 1)\n",
    "index"
   ]
  },
  {
   "cell_type": "code",
   "execution_count": 31,
   "id": "42ab8135",
   "metadata": {},
   "outputs": [
    {
     "data": {
      "text/plain": [
       "tensor(0.6306, grad_fn=<NllLossBackward0>)"
      ]
     },
     "execution_count": 31,
     "metadata": {},
     "output_type": "execute_result"
    }
   ],
   "source": [
    "img,label = cifar2[0]\n",
    "out = model(img.view(-1).unsqueeze(0))\n",
    "loss(out,torch.tensor([label]))"
   ]
  },
  {
   "cell_type": "code",
   "execution_count": 32,
   "id": "a5ea2f55",
   "metadata": {},
   "outputs": [
    {
     "data": {
      "text/plain": [
       "1"
      ]
     },
     "execution_count": 32,
     "metadata": {},
     "output_type": "execute_result"
    }
   ],
   "source": [
    "label"
   ]
  },
  {
   "cell_type": "code",
   "execution_count": 34,
   "id": "02bf30f0",
   "metadata": {},
   "outputs": [],
   "source": [
    "model = nn.Sequential(\n",
    "    nn.Linear(3072,512),\n",
    "    nn.Tanh(),\n",
    "    nn.Linear(512,2),\n",
    "    nn.LogSoftmax(dim=1)\n",
    ")\n",
    "\n",
    "learning_rate = 1e-2\n",
    "train_loader = torch.utils.data.DataLoader(cifar2,shuffle=True,batch_size = 64)\n",
    "loss_fn = nn.NLLLoss()\n",
    "optimizer = torch.optim.SGD(model.parameters(),lr=learning_rate)"
   ]
  },
  {
   "cell_type": "code",
   "execution_count": 37,
   "id": "f589f667",
   "metadata": {},
   "outputs": [
    {
     "name": "stdout",
     "output_type": "stream",
     "text": [
      "Epoch 0, Loss: 0.523135\n",
      "Epoch 1, Loss: 0.442396\n",
      "Epoch 2, Loss: 0.415274\n",
      "Epoch 3, Loss: 0.653630\n",
      "Epoch 4, Loss: 0.263889\n",
      "Epoch 5, Loss: 0.313165\n",
      "Epoch 6, Loss: 0.324467\n",
      "Epoch 7, Loss: 0.222047\n",
      "Epoch 8, Loss: 0.524172\n",
      "Epoch 9, Loss: 0.515321\n",
      "Epoch 10, Loss: 0.188217\n",
      "Epoch 11, Loss: 0.214073\n",
      "Epoch 12, Loss: 0.238223\n",
      "Epoch 13, Loss: 0.297283\n",
      "Epoch 14, Loss: 0.227936\n",
      "Epoch 15, Loss: 0.661978\n",
      "Epoch 16, Loss: 0.334166\n",
      "Epoch 17, Loss: 0.453081\n",
      "Epoch 18, Loss: 0.275257\n",
      "Epoch 19, Loss: 0.439589\n",
      "Epoch 20, Loss: 0.149624\n",
      "Epoch 21, Loss: 0.260662\n",
      "Epoch 22, Loss: 0.337753\n",
      "Epoch 23, Loss: 0.162311\n",
      "Epoch 24, Loss: 0.378485\n",
      "Epoch 25, Loss: 0.163586\n",
      "Epoch 26, Loss: 0.262390\n",
      "Epoch 27, Loss: 0.181054\n",
      "Epoch 28, Loss: 0.111509\n",
      "Epoch 29, Loss: 0.119438\n",
      "Epoch 30, Loss: 0.120673\n",
      "Epoch 31, Loss: 0.304757\n",
      "Epoch 32, Loss: 0.175471\n",
      "Epoch 33, Loss: 0.146863\n",
      "Epoch 34, Loss: 0.161982\n",
      "Epoch 35, Loss: 0.187379\n",
      "Epoch 36, Loss: 0.267984\n",
      "Epoch 37, Loss: 0.176016\n",
      "Epoch 38, Loss: 0.150373\n",
      "Epoch 39, Loss: 0.198065\n",
      "Epoch 40, Loss: 0.112764\n",
      "Epoch 41, Loss: 0.065944\n",
      "Epoch 42, Loss: 0.108821\n",
      "Epoch 43, Loss: 0.206448\n",
      "Epoch 44, Loss: 0.328024\n",
      "Epoch 45, Loss: 0.134576\n",
      "Epoch 46, Loss: 0.047562\n",
      "Epoch 47, Loss: 0.094438\n",
      "Epoch 48, Loss: 0.066628\n",
      "Epoch 49, Loss: 0.122364\n",
      "Epoch 50, Loss: 0.025445\n",
      "Epoch 51, Loss: 0.072792\n",
      "Epoch 52, Loss: 0.131631\n",
      "Epoch 53, Loss: 0.079238\n",
      "Epoch 54, Loss: 0.137815\n",
      "Epoch 55, Loss: 0.042862\n",
      "Epoch 56, Loss: 0.074007\n",
      "Epoch 57, Loss: 0.098141\n",
      "Epoch 58, Loss: 0.027683\n",
      "Epoch 59, Loss: 0.078116\n",
      "Epoch 60, Loss: 0.030062\n",
      "Epoch 61, Loss: 0.052299\n",
      "Epoch 62, Loss: 0.031440\n",
      "Epoch 63, Loss: 0.074863\n",
      "Epoch 64, Loss: 0.056264\n",
      "Epoch 65, Loss: 0.046792\n",
      "Epoch 66, Loss: 0.019704\n",
      "Epoch 67, Loss: 0.074236\n",
      "Epoch 68, Loss: 0.017134\n",
      "Epoch 69, Loss: 0.078307\n",
      "Epoch 70, Loss: 0.029105\n",
      "Epoch 71, Loss: 0.059674\n",
      "Epoch 72, Loss: 0.050397\n",
      "Epoch 73, Loss: 0.033792\n",
      "Epoch 74, Loss: 0.028678\n",
      "Epoch 75, Loss: 0.030259\n",
      "Epoch 76, Loss: 0.009842\n",
      "Epoch 77, Loss: 0.011559\n",
      "Epoch 78, Loss: 0.015509\n",
      "Epoch 79, Loss: 0.027501\n",
      "Epoch 80, Loss: 0.026818\n",
      "Epoch 81, Loss: 0.022383\n",
      "Epoch 82, Loss: 0.021380\n",
      "Epoch 83, Loss: 0.018872\n",
      "Epoch 84, Loss: 0.016403\n",
      "Epoch 85, Loss: 0.034167\n",
      "Epoch 86, Loss: 0.013961\n",
      "Epoch 87, Loss: 0.011150\n",
      "Epoch 88, Loss: 0.026817\n",
      "Epoch 89, Loss: 0.005666\n",
      "Epoch 90, Loss: 0.007834\n",
      "Epoch 91, Loss: 0.028016\n",
      "Epoch 92, Loss: 0.014534\n",
      "Epoch 93, Loss: 0.041346\n",
      "Epoch 94, Loss: 0.015808\n",
      "Epoch 95, Loss: 0.024605\n",
      "Epoch 96, Loss: 0.032307\n",
      "Epoch 97, Loss: 0.023777\n",
      "Epoch 98, Loss: 0.019783\n",
      "Epoch 99, Loss: 0.013560\n"
     ]
    }
   ],
   "source": [
    "n_epoches = 100\n",
    "\n",
    "for epoch in range(n_epoches):\n",
    "    for imgs,labels in train_loader:\n",
    "        batch_shape = imgs.shape[0]\n",
    "        output = model(imgs.view(batch_shape,-1))\n",
    "        loss = loss_fn(output,labels)\n",
    "        optimizer.zero_grad()\n",
    "        loss.backward()\n",
    "        optimizer.step()\n",
    "    print(\"Epoch %d, Loss: %f\" %(epoch,float(loss)))"
   ]
  },
  {
   "cell_type": "code",
   "execution_count": 54,
   "id": "0e43ece2",
   "metadata": {},
   "outputs": [
    {
     "name": "stdout",
     "output_type": "stream",
     "text": [
      "Accuracy 0.815000\n"
     ]
    }
   ],
   "source": [
    "val_loader = torch.utils.data.DataLoader(cifar2_val,shuffle=False,batch_size = 64)\n",
    "correct = 0\n",
    "total = 0\n",
    "with torch.no_grad():\n",
    "    for imgs,labels in val_loader:\n",
    "        output = model(imgs.view(imgs.shape[0],-1))\n",
    "        _,predicted = torch.max(output,dim = 1)\n",
    "        total+= imgs.shape[0]\n",
    "        correct += int((predicted == labels).sum())\n",
    "print(\"Accuracy %f\" % (correct/total))"
   ]
  },
  {
   "cell_type": "code",
   "execution_count": 55,
   "id": "c099c959",
   "metadata": {},
   "outputs": [
    {
     "data": {
      "text/plain": [
       "(1574402, [1572864, 512, 1024, 2])"
      ]
     },
     "execution_count": 55,
     "metadata": {},
     "output_type": "execute_result"
    }
   ],
   "source": [
    "numel_list = [p.numel() for p in model.parameters() if p.requires_grad ==True]\n",
    "sum(numel_list), numel_list"
   ]
  },
  {
   "cell_type": "code",
   "execution_count": null,
   "id": "39c0b763",
   "metadata": {},
   "outputs": [],
   "source": []
  }
 ],
 "metadata": {
  "kernelspec": {
   "display_name": "Python [conda env:.conda-pytorch] *",
   "language": "python",
   "name": "conda-env-.conda-pytorch-py"
  },
  "language_info": {
   "codemirror_mode": {
    "name": "ipython",
    "version": 3
   },
   "file_extension": ".py",
   "mimetype": "text/x-python",
   "name": "python",
   "nbconvert_exporter": "python",
   "pygments_lexer": "ipython3",
   "version": "3.9.13"
  },
  "toc": {
   "base_numbering": 1,
   "nav_menu": {},
   "number_sections": true,
   "sideBar": true,
   "skip_h1_title": false,
   "title_cell": "Table of Contents",
   "title_sidebar": "Contents",
   "toc_cell": false,
   "toc_position": {},
   "toc_section_display": true,
   "toc_window_display": false
  }
 },
 "nbformat": 4,
 "nbformat_minor": 5
}
