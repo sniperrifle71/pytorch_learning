{
 "cells": [
  {
   "cell_type": "code",
   "execution_count": 10,
   "id": "a21a22b2",
   "metadata": {},
   "outputs": [],
   "source": [
    "import torch\n",
    "import torch.optim as optimizer\n",
    "import torch.nn as nn\n",
    "from torchvision import datasets\n",
    "from torchvision import transforms"
   ]
  },
  {
   "cell_type": "code",
   "execution_count": 11,
   "id": "a9f2ec1d",
   "metadata": {},
   "outputs": [],
   "source": [
    "data_path = './p1ch7'\n",
    "tensor_cifar10 = datasets.CIFAR10(data_path,download=False,train = True,transform = transforms.ToTensor())\n",
    "tensor_cifar10_val = datasets.CIFAR10(data_path,download=False,train = False,transform = transforms.ToTensor())\n"
   ]
  },
  {
   "cell_type": "code",
   "execution_count": 12,
   "id": "90fd7b5a",
   "metadata": {},
   "outputs": [],
   "source": [
    "imgs = torch.stack([img_t for img_t,_ in tensor_cifar10],dim = 3)\n",
    "imgs_val = torch.stack([img_t for img_t,_ in tensor_cifar10_val],dim = 3)\n",
    "imgs_avg = imgs.view(3,-1).mean(1)\n",
    "imgs_std = imgs.view(3,-1).std(1)\n",
    "imgs_val_mean = imgs_val.view(3,-1).mean(1)\n",
    "imgs_val_std = imgs_val.view(3,-1).std(1)\n"
   ]
  },
  {
   "cell_type": "code",
   "execution_count": 13,
   "id": "4910cf7e",
   "metadata": {},
   "outputs": [],
   "source": [
    "tensor_cifar10 = datasets.CIFAR10(data_path,download=False,train = True,transform = transforms.Compose([\n",
    "    transforms.ToTensor(),\n",
    "    transforms.Normalize(mean = imgs_avg,std=imgs_std)\n",
    "]))\n",
    "tensor_cifar10_val = datasets.CIFAR10(data_path,download=False,train = False,transform = transforms.Compose([\n",
    "    transforms.ToTensor(),\n",
    "    transforms.Normalize(mean = imgs_val_mean,std=imgs_val_std)\n",
    "]))"
   ]
  },
  {
   "cell_type": "code",
   "execution_count": 14,
   "id": "614c7e8b",
   "metadata": {},
   "outputs": [],
   "source": [
    "label_map = {0:0,2:1}\n",
    "cifar2 = [(img,label_map[label]) for img,label in tensor_cifar10 if label in [0,2]]\n",
    "cifar2_val = [(img,label_map[label]) for img,label in tensor_cifar10_val if label in [0,2]]"
   ]
  },
  {
   "cell_type": "code",
   "execution_count": 15,
   "id": "63ac2fb4",
   "metadata": {},
   "outputs": [
    {
     "data": {
      "text/plain": [
       "torch.Size([1, 16, 32, 32])"
      ]
     },
     "execution_count": 15,
     "metadata": {},
     "output_type": "execute_result"
    }
   ],
   "source": [
    "conv = nn.Conv2d(3,16,kernel_size=3)\n",
    "conv\n",
    "img,_ = cifar2[0]\n",
    "conv = nn.Conv2d(3,16,kernel_size=3,padding=1)\n",
    "output = conv(img.unsqueeze(0))\n",
    "output.shape\n"
   ]
  },
  {
   "cell_type": "code",
   "execution_count": 16,
   "id": "83699f3f",
   "metadata": {},
   "outputs": [
    {
     "data": {
      "text/plain": [
       "<matplotlib.image.AxesImage at 0x1c039627808>"
      ]
     },
     "execution_count": 16,
     "metadata": {},
     "output_type": "execute_result"
    },
    {
     "data": {
      "image/png": "[encoded data removed]",
      "text/plain": [
       "<Figure size 640x480 with 1 Axes>"
      ]
     },
     "metadata": {},
     "output_type": "display_data"
    }
   ],
   "source": [
    "import matplotlib.pyplot as plt\n",
    "plt.imshow(output[0,0].detach(),cmap='gray')"
   ]
  },
  {
   "cell_type": "code",
   "execution_count": 17,
   "id": "25005e08",
   "metadata": {},
   "outputs": [
    {
     "data": {
      "text/plain": [
       "torch.Size([1, 3, 16, 16])"
      ]
     },
     "execution_count": 17,
     "metadata": {},
     "output_type": "execute_result"
    }
   ],
   "source": [
    "pool = nn.MaxPool2d(2)\n",
    "output = pool(img.unsqueeze(0))\n",
    "output.shape"
   ]
  },
  {
   "cell_type": "code",
   "execution_count": 18,
   "id": "4ae8a88a",
   "metadata": {},
   "outputs": [],
   "source": [
    "model = nn.Sequential(\n",
    "    nn.Conv2d(3,16,kernel_size=3,padding=1),\n",
    "    nn.Tanh(),\n",
    "    nn.MaxPool2d(2),\n",
    "    nn.Conv2d(16,8,kernel_size=3,padding=1),\n",
    "    nn.Tanh(),\n",
    "    nn.MaxPool2d(2),\n",
    "    nn.Flatten(),\n",
    "    nn.Linear(8*8*8,32),\n",
    "    nn.Tanh(),\n",
    "    nn.Linear(32,2)\n",
    "    \n",
    ")"
   ]
  },
  {
   "cell_type": "code",
   "execution_count": 19,
   "id": "192f9c64",
   "metadata": {},
   "outputs": [
    {
     "data": {
      "text/plain": [
       "tensor([[ 0.1703, -0.1373]], grad_fn=<AddmmBackward0>)"
      ]
     },
     "execution_count": 19,
     "metadata": {},
     "output_type": "execute_result"
    }
   ],
   "source": [
    "model(img.unsqueeze(0))"
   ]
  },
  {
   "cell_type": "code",
   "execution_count": 20,
   "id": "629f201b",
   "metadata": {},
   "outputs": [],
   "source": [
    "class Net(nn.Module):\n",
    "    def __init__(self):\n",
    "        super().__init__()\n",
    "        self.conv1 = nn.Conv2d(3,16,kernel_size=3,padding=1)\n",
    "        self.act1 = nn.Tanh()\n",
    "        self.pool1 = nn.MaxPool2d(2)\n",
    "        self.conv2 = nn.Conv2d(16,8,kernel_size=3,padding=1)\n",
    "        self.act2  =nn.Tanh()\n",
    "        self.pool2 = nn.MaxPool2d(2)\n",
    "        self.fc1 = nn.Linear(512,32)\n",
    "        self.act3 = nn.Tanh()\n",
    "        self.fc2 = nn.Linear(32,2)\n",
    "    def forward(self,x):\n",
    "        out = self.pool1(self.act1(self.conv1(x)))\n",
    "        out = self.pool2(self.act2(self.conv2(out)))\n",
    "        out = out.view(-1,512)\n",
    "        out = self.act3(self.fc1(out))\n",
    "        out = self.fc2(out)\n",
    "        return out"
   ]
  },
  {
   "cell_type": "code",
   "execution_count": 21,
   "id": "ae8cc139",
   "metadata": {},
   "outputs": [
    {
     "data": {
      "text/plain": [
       "tensor([[-0.0362,  0.0892]], grad_fn=<AddmmBackward0>)"
      ]
     },
     "execution_count": 21,
     "metadata": {},
     "output_type": "execute_result"
    }
   ],
   "source": [
    "model = Net()\n",
    "model(img.unsqueeze(0))"
   ]
  },
  {
   "cell_type": "code",
   "execution_count": 22,
   "id": "8a745878",
   "metadata": {},
   "outputs": [],
   "source": [
    "import datetime"
   ]
  },
  {
   "cell_type": "code",
   "execution_count": 30,
   "id": "774d899f",
   "metadata": {},
   "outputs": [],
   "source": [
    "device = (torch.device(\"cuda\") if torch.cuda.is_available() else torch.device(\"cpu\"))\n",
    "device = \"cpu\""
   ]
  },
  {
   "cell_type": "code",
   "execution_count": null,
   "id": "6c862618",
   "metadata": {},
   "outputs": [
    {
     "name": "stdout",
     "output_type": "stream",
     "text": [
      "2023-02-07 19:12:33.942968 Epoch 1, Training loss 0.5476619895476444\n",
      "2023-02-07 19:12:48.755536 Epoch 10, Training loss 0.34535352297269617\n",
      "2023-02-07 19:13:05.217358 Epoch 20, Training loss 0.3021829756581859\n",
      "2023-02-07 19:13:21.712868 Epoch 30, Training loss 0.270555916532969\n",
      "2023-02-07 19:13:38.322311 Epoch 40, Training loss 0.2472658750547725\n",
      "2023-02-07 19:13:54.765424 Epoch 50, Training loss 0.22710281197622323\n",
      "2023-02-07 19:14:11.268308 Epoch 60, Training loss 0.21094815395060618\n",
      "2023-02-07 19:14:27.694363 Epoch 70, Training loss 0.19450363184616065\n"
     ]
    }
   ],
   "source": [
    "def training_loop(model,loss_fn,optimizer,n_epoch,train_loader):\n",
    "    for epoch in range(1,n_epoch+1):\n",
    "        loss_train = 0\n",
    "        for imgs,labels in train_loader:\n",
    "            imgs = imgs.to(device)\n",
    "            labels = labels.to(device)\n",
    "            outputs = model(imgs)\n",
    "            loss = loss_fn(outputs,labels)\n",
    "            optimizer.zero_grad()\n",
    "            loss.backward()\n",
    "            optimizer.step()\n",
    "            loss_train+=loss.item()\n",
    "        if epoch == 1 or epoch%10 == 0:\n",
    "            print('{} Epoch {}, Training loss {}'.format(datetime.datetime.now(),epoch,loss_train/len(train_loader)))\n",
    "\n",
    "train_loader = torch.utils.data.DataLoader(cifar2,batch_size=64,shuffle=True)\n",
    "model = Net().to(device)\n",
    "optimizer = torch.optim.SGD(model.parameters(),lr=1e-2)\n",
    "loss_fn = nn.CrossEntropyLoss()\n",
    "training_loop(model,loss_fn,optimizer,100,train_loader)\n"
   ]
  },
  {
   "cell_type": "code",
   "execution_count": 29,
   "id": "0f659fb8",
   "metadata": {},
   "outputs": [
    {
     "name": "stdout",
     "output_type": "stream",
     "text": [
      "Accuracy train:0.50\n",
      "Accuracy val:0.50\n"
     ]
    }
   ],
   "source": [
    "val_loader = torch.utils.data.DataLoader(cifar2_val,batch_size=64,shuffle=False)\n",
    "train_loader = torch.utils.data.DataLoader(cifar2,batch_size=64,shuffle=False)\n",
    "def validate(model,train_loader,val_loader):\n",
    "    for name,loader in [(\"train\",train_loader),(\"val\",val_loader)]:\n",
    "        total = 0\n",
    "        correct = 0\n",
    "        with torch.no_grad():\n",
    "            for imgs,labels in loader:\n",
    "                imgs = imgs.to(device)\n",
    "                labels = labels.to(device)\n",
    "                outputs = model(imgs)\n",
    "                _,predicted = torch.max(outputs,dim = 1)\n",
    "                total+=labels.shape[0]\n",
    "                correct+=int((predicted == labels).sum())\n",
    "        print(\"Accuracy {}:{:.2f}\".format(name,correct/total))\n",
    "validate(model,train_loader,val_loader)\n",
    "            "
   ]
  },
  {
   "cell_type": "code",
   "execution_count": null,
   "id": "bacb6760",
   "metadata": {},
   "outputs": [],
   "source": [
    "torch.save(model.state_dict(),\"birds_vs_airplanes.pt\")"
   ]
  },
  {
   "cell_type": "code",
   "execution_count": null,
   "id": "fcd01192",
   "metadata": {},
   "outputs": [],
   "source": [
    "loaded_model = Net()\n",
    "loaded_model.load_state_dict(torch.load(\"./birds_vs_airplanes.pt\"))"
   ]
  },
  {
   "cell_type": "code",
   "execution_count": null,
   "id": "920dfb7d",
   "metadata": {},
   "outputs": [],
   "source": [
    "torch.cuda.is_available()"
   ]
  },
  {
   "cell_type": "code",
   "execution_count": null,
   "id": "0de94cdf",
   "metadata": {},
   "outputs": [],
   "source": [
    "import torch.functional as F"
   ]
  },
  {
   "cell_type": "code",
   "execution_count": null,
   "id": "7e1a787b",
   "metadata": {},
   "outputs": [],
   "source": [
    "class NetDepth(nn.Module):\n",
    "    def __init__(self,nchans1=32):\n",
    "        super().__init__()\n",
    "        self.conv1 = nn.Conv2d(3,nchans1,kernel_size=3,padding=1)\n",
    "        self.conv2 = nn.Conv2d(nchans1,nchans1//2,kernel_size=3,padding=1)\n",
    "        self.conv3 = nn.Conv2d(nchans1//2,nchans1//2,kernel_size=3,padding=1)\n",
    "        self.fc1 = nn.Linear(nchans1//2*4*4,32)\n",
    "        self.fc2 = nn.Linear(32,2)\n",
    "    def forward(self,x):\n",
    "        out = F.F.max_pool2d(torch.relu(self.conv1(x)),2)\n",
    "        out1 = out\n",
    "        out = F.F.max_pool2d(torch.relu(self.conv2(out)),2)\n",
    "        out = F.F.max_pool2d(torch.relu(self.conv3(out))+out1,2)\n",
    "        out = out.view(-1,4*4*(self.nchans1//2))\n",
    "        out = torch.relu(torch.fc1(out))\n",
    "        out = self.fc2(out)"
   ]
  },
  {
   "cell_type": "code",
   "execution_count": null,
   "id": "6a0aa0c8",
   "metadata": {},
   "outputs": [],
   "source": [
    "class ResBlock(nn.Module):\n",
    "    def __init__(self,n_chans):\n",
    "        super().__init__()\n",
    "        self.conv = nn.Conv2d(3,n_chans,kernel_size=3,padding=1,bias=False)\n",
    "        self.batch_norm = nn.BatchNorm2d(num_features=n_chans)\n",
    "        nn.init.kaiming_normal_(self.conv.weight,nonlinearity='relu')\n",
    "        nn.init.constant_(self.batch_norm.weight,0.5)\n",
    "        nn.init.zeros_(self.batch_normatch_norm.bias)\n",
    "    def forward(self,x):\n",
    "        out = self.conv(x)\n",
    "        out = self.batch_norm(x)\n",
    "        out = torch.relu(out)\n",
    "        return out+x\n",
    "        \n",
    "        "
   ]
  },
  {
   "cell_type": "code",
   "execution_count": null,
   "id": "a51c3be4",
   "metadata": {},
   "outputs": [],
   "source": [
    "class NetResDeep(nn.Module):\n",
    "    def __init__(self,n_chans = 32,n_blocks = 10):\n",
    "        super().__init__()\n",
    "        self.nchans1 = n_chans\n",
    "        self.conv1 = nn.Conv2d(3,n_chans,kernel_size=3,padding=1)\n",
    "        self.resblocks = nn.Sequential(\n",
    "            *(n_blocks*[ResBlock(n_chans=n_chans)])\n",
    "        )\n",
    "        self.fc1 = nn.Linear(8*8*n_chans,32)\n",
    "        self.fc2 = nn.Linear(32,2)\n",
    "    def forward(self,x):\n",
    "        out = F.F.max_pool2d(torch.relu(self.conv1(x)),2)\n",
    "        out = self.resblocks(out)\n",
    "        out = F.F.max_pool2d(out,2)\n",
    "        out = out.view(-1,8*8*self.nchans1)\n",
    "        out = torch.relu(self.fc1(out))\n",
    "        out = self.fc2(out)\n",
    "        return out\n",
    "    "
   ]
  },
  {
   "cell_type": "code",
   "execution_count": null,
   "id": "1b00179a",
   "metadata": {},
   "outputs": [],
   "source": []
  }
 ],
 "metadata": {
  "kernelspec": {
   "display_name": "GPUpytorch",
   "language": "python",
   "name": "gpupytorch"
  },
  "language_info": {
   "codemirror_mode": {
    "name": "ipython",
    "version": 3
   },
   "file_extension": ".py",
   "mimetype": "text/x-python",
   "name": "python",
   "nbconvert_exporter": "python",
   "pygments_lexer": "ipython3",
   "version": "3.7.12"
  },
  "toc": {
   "base_numbering": 1,
   "nav_menu": {},
   "number_sections": true,
   "sideBar": true,
   "skip_h1_title": false,
   "title_cell": "Table of Contents",
   "title_sidebar": "Contents",
   "toc_cell": false,
   "toc_position": {},
   "toc_section_display": true,
   "toc_window_display": false
  }
 },
 "nbformat": 4,
 "nbformat_minor": 5
}
