{
 "cells": [
  {
   "cell_type": "code",
   "execution_count": 1,
   "id": "dbc901bc",
   "metadata": {},
   "outputs": [
    {
     "name": "stderr",
     "output_type": "stream",
     "text": [
      "C:\\Users\\Lin Borong\\.conda\\envs\\pytorch\\lib\\site-packages\\tqdm\\auto.py:22: TqdmWarning: IProgress not found. Please update jupyter and ipywidgets. See https://ipywidgets.readthedocs.io/en/stable/user_install.html\n",
      "  from .autonotebook import tqdm as notebook_tqdm\n"
     ]
    }
   ],
   "source": [
    "import torch"
   ]
  },
  {
   "cell_type": "code",
   "execution_count": 2,
   "id": "ee2ffe38",
   "metadata": {},
   "outputs": [],
   "source": [
    "t_c = [0.5,14.0,15.0,28.0,11.0,8.0,3.0,-4.0,6.0,13.0,21.0]\n",
    "t_u = [35.7,55.9,58.2,81.9,56.3,48.9,33.9,21.8,48.4,60.4,68.4]\n",
    "t_c = torch.tensor(t_c)\n",
    "t_u = torch.tensor(t_u)"
   ]
  },
  {
   "cell_type": "code",
   "execution_count": 3,
   "id": "52e596f0",
   "metadata": {},
   "outputs": [],
   "source": [
    "def loss_fn(t_p,t_c):\n",
    "    squared_diffs = (t_p-t_c)**2\n",
    "    return squared_diffs.mean()"
   ]
  },
  {
   "cell_type": "code",
   "execution_count": 4,
   "id": "9788b904",
   "metadata": {},
   "outputs": [],
   "source": [
    "def model(t_u, w,b):\n",
    "    return w*t_u+b"
   ]
  },
  {
   "cell_type": "code",
   "execution_count": 5,
   "id": "43d4c65a",
   "metadata": {},
   "outputs": [],
   "source": [
    "w = torch.ones(())\n",
    "b = torch.zeros(())\n",
    "t_p = model(t_u,w,b)"
   ]
  },
  {
   "cell_type": "code",
   "execution_count": 6,
   "id": "e9abea63",
   "metadata": {},
   "outputs": [
    {
     "data": {
      "text/plain": [
       "tensor([35.7000, 55.9000, 58.2000, 81.9000, 56.3000, 48.9000, 33.9000, 21.8000,\n",
       "        48.4000, 60.4000, 68.4000])"
      ]
     },
     "execution_count": 6,
     "metadata": {},
     "output_type": "execute_result"
    }
   ],
   "source": [
    "t_p"
   ]
  },
  {
   "cell_type": "code",
   "execution_count": 7,
   "id": "1f2e84b5",
   "metadata": {},
   "outputs": [
    {
     "data": {
      "text/plain": [
       "tensor(1763.8848)"
      ]
     },
     "execution_count": 7,
     "metadata": {},
     "output_type": "execute_result"
    }
   ],
   "source": [
    "loss_fn(t_p,t_c)"
   ]
  },
  {
   "cell_type": "code",
   "execution_count": 8,
   "id": "25b08235",
   "metadata": {},
   "outputs": [],
   "source": [
    "params = torch.tensor([1.0,0.0],requires_grad = True)"
   ]
  },
  {
   "cell_type": "code",
   "execution_count": 9,
   "id": "3196d6ef",
   "metadata": {},
   "outputs": [
    {
     "data": {
      "text/plain": [
       "tensor([-77.6140, -10.6400])"
      ]
     },
     "execution_count": 9,
     "metadata": {},
     "output_type": "execute_result"
    }
   ],
   "source": [
    "loss = loss_fn(model(t_u*0.1,*params),t_c)\n",
    "loss.backward()\n",
    "params.grad"
   ]
  },
  {
   "cell_type": "code",
   "execution_count": 10,
   "id": "c6921c36",
   "metadata": {},
   "outputs": [],
   "source": [
    "def training_loop(n_epochs,learning_rate,params,t_u,t_c):\n",
    "    for i in range(1,n_epochs+1):\n",
    "        if params.grad is not None:\n",
    "            params.grad.zero_()\n",
    "        t_p = model(t_u,*params)\n",
    "        loss = loss_fn(t_p,t_c)\n",
    "        loss.backward()\n",
    "        with torch.no_grad():\n",
    "            params -= learning_rate * params.grad\n",
    "            #params = params-learning_rate*params.grad\n",
    "        if i%500==0:\n",
    "            print('Epoch %d, Loss %f' % (i,float(loss)))\n",
    "    return params"
   ]
  },
  {
   "cell_type": "code",
   "execution_count": 11,
   "id": "033c85ba",
   "metadata": {},
   "outputs": [
    {
     "name": "stdout",
     "output_type": "stream",
     "text": [
      "Epoch 500, Loss 7.860115\n",
      "Epoch 1000, Loss 3.828538\n",
      "Epoch 1500, Loss 3.092191\n",
      "Epoch 2000, Loss 2.957698\n",
      "Epoch 2500, Loss 2.933134\n",
      "Epoch 3000, Loss 2.928648\n",
      "Epoch 3500, Loss 2.927830\n",
      "Epoch 4000, Loss 2.927679\n",
      "Epoch 4500, Loss 2.927652\n",
      "Epoch 5000, Loss 2.927647\n"
     ]
    },
    {
     "data": {
      "text/plain": [
       "tensor([  5.3671, -17.3012], requires_grad=True)"
      ]
     },
     "execution_count": 11,
     "metadata": {},
     "output_type": "execute_result"
    }
   ],
   "source": [
    "training_loop(\n",
    "    n_epochs=5000,\n",
    "    learning_rate=1e-2,\n",
    "    params = torch.tensor([1.0, 0.0], requires_grad=True),\n",
    "    t_u = t_u*0.1,\n",
    "    t_c = t_c\n",
    ")"
   ]
  },
  {
   "cell_type": "markdown",
   "id": "6b720032",
   "metadata": {},
   "source": [
    "# optimizer"
   ]
  },
  {
   "cell_type": "code",
   "execution_count": 12,
   "id": "18c69e2f",
   "metadata": {},
   "outputs": [],
   "source": [
    "import torch.optim as optim"
   ]
  },
  {
   "cell_type": "code",
   "execution_count": 13,
   "id": "505d8683",
   "metadata": {},
   "outputs": [
    {
     "data": {
      "text/plain": [
       "['ASGD',\n",
       " 'Adadelta',\n",
       " 'Adagrad',\n",
       " 'Adam',\n",
       " 'AdamW',\n",
       " 'Adamax',\n",
       " 'LBFGS',\n",
       " 'NAdam',\n",
       " 'Optimizer',\n",
       " 'RAdam',\n",
       " 'RMSprop',\n",
       " 'Rprop',\n",
       " 'SGD',\n",
       " 'SparseAdam',\n",
       " '__builtins__',\n",
       " '__cached__',\n",
       " '__doc__',\n",
       " '__file__',\n",
       " '__loader__',\n",
       " '__name__',\n",
       " '__package__',\n",
       " '__path__',\n",
       " '__spec__',\n",
       " '_functional',\n",
       " '_multi_tensor',\n",
       " 'lr_scheduler',\n",
       " 'swa_utils']"
      ]
     },
     "execution_count": 13,
     "metadata": {},
     "output_type": "execute_result"
    }
   ],
   "source": [
    "dir(optim)"
   ]
  },
  {
   "cell_type": "code",
   "execution_count": 14,
   "id": "9ad36025",
   "metadata": {},
   "outputs": [
    {
     "data": {
      "text/plain": [
       "tensor([1.7761, 0.1064], requires_grad=True)"
      ]
     },
     "execution_count": 14,
     "metadata": {},
     "output_type": "execute_result"
    }
   ],
   "source": [
    "params = torch.tensor([1.0,0.0],requires_grad = True)\n",
    "learning_rate = 1e-2\n",
    "optimizer = optim.SGD([params],lr=learning_rate)\n",
    "t_p = model(t_u*0.1,*params)\n",
    "loss = loss_fn(t_p,t_c)\n",
    "optimizer.zero_grad()\n",
    "loss.backward()\n",
    "optimizer.step()\n",
    "params"
   ]
  },
  {
   "cell_type": "code",
   "execution_count": 15,
   "id": "36d36aec",
   "metadata": {},
   "outputs": [],
   "source": [
    "def training_loop(t_u,t_c,optimizer,n_epoch,params):\n",
    "    for i in range(1,n_epoch+1):\n",
    "        t_p = model(t_u*0.1,*params)\n",
    "        loss = loss_fn(t_p,t_c)\n",
    "        optimizer.zero_grad()\n",
    "        loss.backward()\n",
    "        optimizer.step()\n",
    "        if i%500==0:\n",
    "            print('Epoch %d, Loss %f' % (i,float(loss)))\n",
    "    return params"
   ]
  },
  {
   "cell_type": "code",
   "execution_count": 16,
   "id": "798f4d07",
   "metadata": {},
   "outputs": [
    {
     "name": "stdout",
     "output_type": "stream",
     "text": [
      "Epoch 500, Loss 2.962302\n",
      "Epoch 1000, Loss 2.927647\n",
      "Epoch 1500, Loss 2.927645\n",
      "Epoch 2000, Loss 2.927646\n",
      "Epoch 2500, Loss 2.927646\n",
      "Epoch 3000, Loss 2.927646\n",
      "Epoch 3500, Loss 2.927646\n",
      "Epoch 4000, Loss 2.927646\n",
      "Epoch 4500, Loss 2.927646\n",
      "Epoch 5000, Loss 2.927645\n"
     ]
    },
    {
     "data": {
      "text/plain": [
       "tensor([  5.3677, -17.3048], requires_grad=True)"
      ]
     },
     "execution_count": 16,
     "metadata": {},
     "output_type": "execute_result"
    }
   ],
   "source": [
    "params = torch.tensor([1.0,0.0],requires_grad = True)\n",
    "optimizer = optim.Adam([params],lr=1e-1)\n",
    "training_loop(t_u,t_c,optimizer,n_epoch=5000,params=params)\n",
    "params"
   ]
  },
  {
   "cell_type": "code",
   "execution_count": 17,
   "id": "87a6fb37",
   "metadata": {},
   "outputs": [
    {
     "data": {
      "text/plain": [
       "(tensor([ 6,  5,  9,  2,  1,  4,  8, 10,  7]), tensor([3, 0]))"
      ]
     },
     "execution_count": 17,
     "metadata": {},
     "output_type": "execute_result"
    }
   ],
   "source": [
    "n_samples = t_u.shape[0]\n",
    "n_val = int(0.2*n_samples)\n",
    "shuffled_indices = torch.randperm(n_samples)\n",
    "training_indices = shuffled_indices[:-n_val]\n",
    "val_indices = shuffled_indices[-n_val:]\n",
    "training_indices,val_indices"
   ]
  },
  {
   "cell_type": "code",
   "execution_count": 18,
   "id": "5579e674",
   "metadata": {},
   "outputs": [],
   "source": [
    "train_t_un = t_u[training_indices]*0.1\n",
    "train_t_c = t_c[training_indices]\n",
    "val_t_un = t_u[val_indices]*0.1\n",
    "val_t_c = t_c[val_indices]"
   ]
  },
  {
   "cell_type": "code",
   "execution_count": 44,
   "id": "7df6a241",
   "metadata": {},
   "outputs": [],
   "source": [
    "def training_loop(n_epochs, optimizer, params, training_t_u, training_t_c,val_t_u,val_t_c,loss_fn,model):\n",
    "    for epoch in range(1,n_epochs+1):\n",
    "        train_t_p = model(train_t_un)\n",
    "        train_loss = loss_fn(train_t_p,train_t_c)\n",
    "        with torch.no_grad():\n",
    "            val_t_p = model(val_t_u)\n",
    "            val_loss = loss_fn(val_t_p,val_t_c)\n",
    "            assert val_loss.requires_grad == False\n",
    "        optimizer.zero_grad()\n",
    "        train_loss.backward()\n",
    "        optimizer.step()\n",
    "        if epoch<=3 or epoch%500==0:\n",
    "            print(f\"Epoch {epoch}, Training loss {train_loss.item():.4f},\"\n",
    "                 f\"Validation loss{val_loss.item():.4f}\")"
   ]
  },
  {
   "cell_type": "code",
   "execution_count": 36,
   "id": "8cfd3675",
   "metadata": {},
   "outputs": [],
   "source": [
    "params = torch.tensor([1.0,0.0],requires_grad = True)\n",
    "learning_rate = 1e-2\n",
    "optimizer = optim.SGD([params],lr=learning_rate)"
   ]
  },
  {
   "cell_type": "code",
   "execution_count": 37,
   "id": "7caefd7a",
   "metadata": {},
   "outputs": [
    {
     "ename": "TypeError",
     "evalue": "model() missing 2 required positional arguments: 'w' and 'b'",
     "output_type": "error",
     "traceback": [
      "\u001b[1;31m---------------------------------------------------------------------------\u001b[0m",
      "\u001b[1;31mTypeError\u001b[0m                                 Traceback (most recent call last)",
      "Input \u001b[1;32mIn [37]\u001b[0m, in \u001b[0;36m<cell line: 1>\u001b[1;34m()\u001b[0m\n\u001b[1;32m----> 1\u001b[0m \u001b[43mtraining_loop\u001b[49m\u001b[43m(\u001b[49m\n\u001b[0;32m      2\u001b[0m \u001b[43m    \u001b[49m\u001b[43mn_epochs\u001b[49m\u001b[38;5;241;43m=\u001b[39;49m\u001b[38;5;241;43m3000\u001b[39;49m\u001b[43m,\u001b[49m\n\u001b[0;32m      3\u001b[0m \u001b[43m    \u001b[49m\u001b[43moptimizer\u001b[49m\u001b[38;5;241;43m=\u001b[39;49m\u001b[43moptimizer\u001b[49m\u001b[43m,\u001b[49m\n\u001b[0;32m      4\u001b[0m \u001b[43m    \u001b[49m\u001b[43mparams\u001b[49m\u001b[38;5;241;43m=\u001b[39;49m\u001b[43mparams\u001b[49m\u001b[43m,\u001b[49m\n\u001b[0;32m      5\u001b[0m \u001b[43m    \u001b[49m\u001b[43mtraining_t_u\u001b[49m\u001b[38;5;241;43m=\u001b[39;49m\u001b[43mtrain_t_un\u001b[49m\u001b[43m,\u001b[49m\n\u001b[0;32m      6\u001b[0m \u001b[43m    \u001b[49m\u001b[43mval_t_u\u001b[49m\u001b[38;5;241;43m=\u001b[39;49m\u001b[43mval_t_un\u001b[49m\u001b[43m,\u001b[49m\n\u001b[0;32m      7\u001b[0m \u001b[43m    \u001b[49m\u001b[43mtraining_t_c\u001b[49m\u001b[43m \u001b[49m\u001b[38;5;241;43m=\u001b[39;49m\u001b[43m \u001b[49m\u001b[43mtrain_t_c\u001b[49m\u001b[43m,\u001b[49m\n\u001b[0;32m      8\u001b[0m \u001b[43m    \u001b[49m\u001b[43mval_t_c\u001b[49m\u001b[43m \u001b[49m\u001b[38;5;241;43m=\u001b[39;49m\u001b[43m \u001b[49m\u001b[43mval_t_c\u001b[49m\u001b[43m,\u001b[49m\n\u001b[0;32m      9\u001b[0m \u001b[43m    \u001b[49m\u001b[43mloss_fn\u001b[49m\u001b[38;5;241;43m=\u001b[39;49m\u001b[43mloss_fn\u001b[49m\u001b[43m,\u001b[49m\n\u001b[0;32m     10\u001b[0m \u001b[43m    \u001b[49m\u001b[43mmodel\u001b[49m\u001b[38;5;241;43m=\u001b[39;49m\u001b[43mmodel\u001b[49m\n\u001b[0;32m     11\u001b[0m \u001b[43m)\u001b[49m\n",
      "Input \u001b[1;32mIn [35]\u001b[0m, in \u001b[0;36mtraining_loop\u001b[1;34m(n_epochs, optimizer, params, training_t_u, training_t_c, val_t_u, val_t_c, loss_fn, model)\u001b[0m\n\u001b[0;32m      1\u001b[0m \u001b[38;5;28;01mdef\u001b[39;00m \u001b[38;5;21mtraining_loop\u001b[39m(n_epochs, optimizer, params, training_t_u, training_t_c,val_t_u,val_t_c,loss_fn,model):\n\u001b[0;32m      2\u001b[0m     \u001b[38;5;28;01mfor\u001b[39;00m epoch \u001b[38;5;129;01min\u001b[39;00m \u001b[38;5;28mrange\u001b[39m(\u001b[38;5;241m1\u001b[39m,n_epochs\u001b[38;5;241m+\u001b[39m\u001b[38;5;241m1\u001b[39m):\n\u001b[1;32m----> 3\u001b[0m         train_t_p \u001b[38;5;241m=\u001b[39m \u001b[43mmodel\u001b[49m\u001b[43m(\u001b[49m\u001b[43mtrain_t_un\u001b[49m\u001b[43m)\u001b[49m\n\u001b[0;32m      4\u001b[0m         train_loss \u001b[38;5;241m=\u001b[39m loss_fn(train_t_p,train_t_c)\n\u001b[0;32m      5\u001b[0m         \u001b[38;5;28;01mwith\u001b[39;00m torch\u001b[38;5;241m.\u001b[39mno_grad():\n",
      "\u001b[1;31mTypeError\u001b[0m: model() missing 2 required positional arguments: 'w' and 'b'"
     ]
    }
   ],
   "source": [
    "training_loop(\n",
    "    n_epochs=3000,\n",
    "    optimizer=optimizer,\n",
    "    params=params,\n",
    "    training_t_u=train_t_un,\n",
    "    val_t_u=val_t_un,\n",
    "    training_t_c = train_t_c,\n",
    "    val_t_c = val_t_c,\n",
    "    loss_fn=loss_fn,\n",
    "    model=model\n",
    ")"
   ]
  },
  {
   "cell_type": "markdown",
   "id": "3e1bab9f",
   "metadata": {},
   "source": [
    "# pich6"
   ]
  },
  {
   "cell_type": "code",
   "execution_count": 22,
   "id": "15f1c3f5",
   "metadata": {},
   "outputs": [],
   "source": [
    "import torch.nn as nn"
   ]
  },
  {
   "cell_type": "code",
   "execution_count": 24,
   "id": "9ead5ce5",
   "metadata": {},
   "outputs": [
    {
     "data": {
      "text/plain": [
       "Parameter containing:\n",
       "tensor([[0.3168]], requires_grad=True)"
      ]
     },
     "execution_count": 24,
     "metadata": {},
     "output_type": "execute_result"
    }
   ],
   "source": [
    "linear_model = nn.Linear(1,1)\n",
    "linear_model.weight"
   ]
  },
  {
   "cell_type": "code",
   "execution_count": 25,
   "id": "0729b893",
   "metadata": {},
   "outputs": [
    {
     "data": {
      "text/plain": [
       "tensor([-0.1998], grad_fn=<AddBackward0>)"
      ]
     },
     "execution_count": 25,
     "metadata": {},
     "output_type": "execute_result"
    }
   ],
   "source": [
    "x = torch.ones(1)\n",
    "linear_model(x)"
   ]
  },
  {
   "cell_type": "code",
   "execution_count": 39,
   "id": "b7721647",
   "metadata": {},
   "outputs": [],
   "source": [
    "t_c = t_c.clone().unsqueeze(1)\n",
    "t_u = t_u.clone().unsqueeze(1)\n",
    "n_samples = t_u.shape[0]\n",
    "n_val = int(0.2*n_samples)\n",
    "shuffled_indices = torch.randperm(n_samples)\n",
    "training_indices = shuffled_indices[:-n_val]\n",
    "val_indices = shuffled_indices[-n_val:]\n",
    "training_indices,val_indices\n",
    "train_t_un = t_u[training_indices]*0.1\n",
    "train_t_c = t_c[training_indices]\n",
    "val_t_un = t_u[val_indices]*0.1\n",
    "val_t_c = t_c[val_indices]"
   ]
  },
  {
   "cell_type": "code",
   "execution_count": 40,
   "id": "a91f74b6",
   "metadata": {},
   "outputs": [],
   "source": [
    "optimizer = optim.SGD(linear_model.parameters(),lr=1e-2)"
   ]
  },
  {
   "cell_type": "code",
   "execution_count": 45,
   "id": "22f1f7c4",
   "metadata": {},
   "outputs": [
    {
     "name": "stdout",
     "output_type": "stream",
     "text": [
      "Epoch 1, Training loss 131.6745,Validation loss268.4377\n",
      "Epoch 2, Training loss 50.2536,Validation loss94.3634\n",
      "Epoch 3, Training loss 34.6499,Validation loss46.7613\n",
      "Epoch 500, Training loss 6.9076,Validation loss8.6666\n",
      "Epoch 1000, Training loss 3.4953,Validation loss5.4035\n",
      "Epoch 1500, Training loss 3.0187,Validation loss4.4230\n",
      "Epoch 2000, Training loss 2.9521,Validation loss4.0900\n",
      "Epoch 2500, Training loss 2.9428,Validation loss3.9702\n",
      "Epoch 3000, Training loss 2.9415,Validation loss3.9261\n"
     ]
    }
   ],
   "source": [
    "training_loop(\n",
    "    n_epochs=3000,\n",
    "    model = linear_model,\n",
    "    loss_fn = nn.MSELoss(),\n",
    "    training_t_c=  train_t_c,\n",
    "    training_t_u = train_t_un,\n",
    "    val_t_c = val_t_c,\n",
    "    val_t_u = val_t_un,\n",
    "    optimizer = optimizer,\n",
    "    params = linear_model.parameters()\n",
    ")"
   ]
  },
  {
   "cell_type": "code",
   "execution_count": 46,
   "id": "2ec01ff8",
   "metadata": {},
   "outputs": [
    {
     "data": {
      "text/plain": [
       "Sequential(\n",
       "  (0): Linear(in_features=1, out_features=13, bias=True)\n",
       "  (1): Tanh()\n",
       "  (2): Linear(in_features=13, out_features=1, bias=True)\n",
       ")"
      ]
     },
     "execution_count": 46,
     "metadata": {},
     "output_type": "execute_result"
    }
   ],
   "source": [
    "seq_model = nn.Sequential(\n",
    "    nn.Linear(1,13),\n",
    "    nn.Tanh(),\n",
    "    nn.Linear(13,1)\n",
    ")\n",
    "seq_model"
   ]
  },
  {
   "cell_type": "code",
   "execution_count": 48,
   "id": "d7dca95d",
   "metadata": {},
   "outputs": [
    {
     "data": {
      "text/plain": [
       "[torch.Size([13, 1]), torch.Size([13]), torch.Size([1, 13]), torch.Size([1])]"
      ]
     },
     "execution_count": 48,
     "metadata": {},
     "output_type": "execute_result"
    }
   ],
   "source": [
    "[param.shape for param in seq_model.parameters()]"
   ]
  },
  {
   "cell_type": "code",
   "execution_count": 50,
   "id": "99ea06dd",
   "metadata": {},
   "outputs": [
    {
     "name": "stdout",
     "output_type": "stream",
     "text": [
      "0.weight torch.Size([13, 1])\n",
      "0.bias torch.Size([13])\n",
      "2.weight torch.Size([1, 13])\n",
      "2.bias torch.Size([1])\n"
     ]
    }
   ],
   "source": [
    "for name,param in seq_model.named_parameters():\n",
    "    print(name, param.shape)"
   ]
  },
  {
   "cell_type": "code",
   "execution_count": 57,
   "id": "9d808d6c",
   "metadata": {},
   "outputs": [
    {
     "data": {
      "text/plain": [
       "Sequential(\n",
       "  (hidden_linear): Linear(in_features=1, out_features=8, bias=True)\n",
       "  (hidden_Active): Tanh()\n",
       "  (output_linear): Linear(in_features=8, out_features=1, bias=True)\n",
       ")"
      ]
     },
     "execution_count": 57,
     "metadata": {},
     "output_type": "execute_result"
    }
   ],
   "source": [
    "from collections import OrderedDict\n",
    "seq_model = nn.Sequential(OrderedDict([\n",
    "    ('hidden_linear',nn.Linear(1,8)),\n",
    "    (\"hidden_Active\",nn.Tanh()),\n",
    "    ('output_linear',nn.Linear(8,1))\n",
    "]\n",
    ")\n",
    ")\n",
    "seq_model"
   ]
  },
  {
   "cell_type": "code",
   "execution_count": 62,
   "id": "cfa9536d",
   "metadata": {},
   "outputs": [
    {
     "name": "stdout",
     "output_type": "stream",
     "text": [
      "Epoch 1, Training loss 154.5241,Validation loss310.9136\n",
      "Epoch 2, Training loss 151.8595,Validation loss305.6057\n",
      "Epoch 3, Training loss 149.2706,Validation loss300.4181\n",
      "Epoch 500, Training loss 16.6472,Validation loss20.6963\n",
      "Epoch 1000, Training loss 6.1230,Validation loss5.5394\n",
      "Epoch 1500, Training loss 3.4950,Validation loss3.5429\n",
      "Epoch 2000, Training loss 3.6062,Validation loss0.2871\n",
      "Epoch 2500, Training loss 2.4679,Validation loss0.9835\n",
      "Epoch 3000, Training loss 1.9445,Validation loss1.8347\n",
      "Epoch 3500, Training loss 1.7181,Validation loss2.7383\n",
      "Epoch 4000, Training loss 1.6378,Validation loss3.3881\n",
      "Epoch 4500, Training loss 1.5999,Validation loss3.5452\n",
      "Epoch 5000, Training loss 1.5749,Validation loss3.6323\n"
     ]
    }
   ],
   "source": [
    "optimizer = optim.SGD(seq_model.parameters(), lr = 1e-3)\n",
    "training_loop(\n",
    "    n_epochs=5000,\n",
    "    optimizer=optimizer,\n",
    "    model=seq_model,\n",
    "    training_t_c=train_t_c,\n",
    "    training_t_u = train_t_un,\n",
    "    val_t_c=val_t_c,\n",
    "    val_t_u = val_t_un,\n",
    "    loss_fn = loss_fn,\n",
    "    params = seq_model.parameters()\n",
    ")"
   ]
  },
  {
   "cell_type": "code",
   "execution_count": null,
   "id": "7d91dae3",
   "metadata": {},
   "outputs": [],
   "source": []
  }
 ],
 "metadata": {
  "kernelspec": {
   "display_name": "Python [conda env:.conda-pytorch] *",
   "language": "python",
   "name": "conda-env-.conda-pytorch-py"
  },
  "language_info": {
   "codemirror_mode": {
    "name": "ipython",
    "version": 3
   },
   "file_extension": ".py",
   "mimetype": "text/x-python",
   "name": "python",
   "nbconvert_exporter": "python",
   "pygments_lexer": "ipython3",
   "version": "3.9.13"
  },
  "toc": {
   "base_numbering": 1,
   "nav_menu": {},
   "number_sections": true,
   "sideBar": true,
   "skip_h1_title": false,
   "title_cell": "Table of Contents",
   "title_sidebar": "Contents",
   "toc_cell": false,
   "toc_position": {},
   "toc_section_display": true,
   "toc_window_display": false
  }
 },
 "nbformat": 4,
 "nbformat_minor": 5
}
